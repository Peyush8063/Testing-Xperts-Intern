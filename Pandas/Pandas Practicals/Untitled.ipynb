{
 "cells": [
  {
   "cell_type": "code",
   "execution_count": 1,
   "id": "e45ccac3",
   "metadata": {},
   "outputs": [
    {
     "name": "stdout",
     "output_type": "stream",
     "text": [
      "[[ 1  2  3]\n",
      " [ 4  5  6]\n",
      " [ 7  8  9]\n",
      " [10 11 12]]\n"
     ]
    }
   ],
   "source": [
    "import pandas as pd\n",
    " \n",
    "df = pd.DataFrame(\n",
    "    [[1, 2, 3],\n",
    "     [4, 5, 6],\n",
    "     [7, 8, 9],\n",
    "     [10, 11, 12]],\n",
    "    columns=['a', 'b', 'c'])\n",
    " \n",
    "arr = df.to_numpy()\n",
    "print(arr)"
   ]
  },
  {
   "cell_type": "code",
   "execution_count": 2,
   "id": "7303ae38",
   "metadata": {},
   "outputs": [
    {
     "name": "stdout",
     "output_type": "stream",
     "text": [
      "<class 'pandas.core.frame.DataFrame'>\n"
     ]
    }
   ],
   "source": [
    "print(type(df))"
   ]
  },
  {
   "cell_type": "code",
   "execution_count": 3,
   "id": "8028023c",
   "metadata": {},
   "outputs": [
    {
     "name": "stdout",
     "output_type": "stream",
     "text": [
      "     name  degree  score\n",
      "1  aparna     MBA     90\n",
      "2  pankaj     BCA     40\n",
      "3  sudhir  M.Tech     80\n",
      "4   Geeku     MBA     98\n"
     ]
    }
   ],
   "source": [
    "dict = {'name':[\"aparna\", \"pankaj\", \"sudhir\", \"Geeku\"],\n",
    "        'degree': [\"MBA\", \"BCA\", \"M.Tech\", \"MBA\"],\n",
    "        'score':[90, 40, 80, 98]}\n",
    " \n",
    "df = pd.DataFrame(dict,index=[1,2,3,4])\n",
    "\n",
    "print(df)\n",
    " "
   ]
  },
  {
   "cell_type": "code",
   "execution_count": 17,
   "id": "e084e379",
   "metadata": {},
   "outputs": [
    {
     "name": "stdout",
     "output_type": "stream",
     "text": [
      "     Sent\n",
      "1      My\n",
      "2    name\n",
      "3      is\n",
      "4  Peyush\n",
      "5  Jindal\n",
      "6       .\n"
     ]
    }
   ],
   "source": [
    "lst=['My','name','is','Peyush','Jindal','.']\n",
    "df=pd.DataFrame(lst,index=[1,2,3,4,5,6])\n",
    "df.columns=['Sent']\n",
    "print(df)"
   ]
  },
  {
   "cell_type": "code",
   "execution_count": 26,
   "id": "08835b80",
   "metadata": {},
   "outputs": [
    {
     "name": "stdout",
     "output_type": "stream",
     "text": [
      "     Name  Age\n",
      "0     Jai   27\n",
      "1  Princi   24\n",
      "2  Gaurav   22\n",
      "3    Anuj   32\n"
     ]
    }
   ],
   "source": [
    "data = {'Name':['Jai', 'Princi', 'Gaurav', 'Anuj'],\n",
    "        'Age':[27, 24, 22, 32],\n",
    "        'Address':['Delhi', 'Kanpur', 'Allahabad', 'Kannauj'],\n",
    "        }\n",
    "  \n",
    "df = pd.DataFrame(data)\n",
    " \n",
    "print(df[['Name', 'Age']])"
   ]
  },
  {
   "cell_type": "code",
   "execution_count": 27,
   "id": "53eb9b31",
   "metadata": {},
   "outputs": [
    {
     "name": "stdout",
     "output_type": "stream",
     "text": [
      "     Name  Age    Address\n",
      "0     Jai   27      Delhi\n",
      "1  Princi   24  Bangalore\n",
      "2  Gaurav   22    Chennai\n",
      "3    Anuj   32      Patna\n"
     ]
    }
   ],
   "source": [
    "address = ['Delhi', 'Bangalore', 'Chennai', 'Patna']\n",
    "\n",
    "df['Address'] = address\n",
    "\n",
    "print(df)\n",
    "\n",
    "\n"
   ]
  },
  {
   "cell_type": "code",
   "execution_count": 28,
   "id": "38981752",
   "metadata": {},
   "outputs": [
    {
     "name": "stdout",
     "output_type": "stream",
     "text": [
      "               Number Position   Age Height            College     Salary\n",
      "Name                                                                     \n",
      "Avery Bradley     0.0       PG  25.0    6-2              Texas  7730337.0\n",
      "Jae Crowder      99.0       SF  25.0    6-6          Marquette  6796117.0\n",
      "John Holland     30.0       SG  27.0    6-5  Boston University        NaN\n",
      "R.J. Hunter      28.0       SG  22.0    6-5      Georgia State  1148640.0\n",
      "Jonas Jerebko     8.0       PF  29.0   6-10                NaN  5000000.0\n",
      "...               ...      ...   ...    ...                ...        ...\n",
      "Shelvin Mack      8.0       PG  26.0    6-3             Butler  2433333.0\n",
      "Raul Neto        25.0       PG  24.0    6-1                NaN   900000.0\n",
      "Tibor Pleiss     21.0        C  26.0    7-3                NaN  2900000.0\n",
      "Jeff Withey      24.0        C  26.0    7-0             Kansas   947276.0\n",
      "NaN               NaN      NaN   NaN    NaN                NaN        NaN\n",
      "\n",
      "[458 rows x 6 columns]\n"
     ]
    }
   ],
   "source": [
    "data = pd.read_csv(\"nba.csv\", index_col =\"Name\" )\n",
    " \n",
    "data.drop([\"Team\", \"Weight\"], axis = 1, inplace = True)\n",
    " \n",
    "print(data)"
   ]
  },
  {
   "cell_type": "code",
   "execution_count": 29,
   "id": "cb76d260",
   "metadata": {},
   "outputs": [
    {
     "name": "stdout",
     "output_type": "stream",
     "text": [
      "Team        Boston Celtics\n",
      "Number                 0.0\n",
      "Position                PG\n",
      "Age                   25.0\n",
      "Height                 6-2\n",
      "Weight               180.0\n",
      "College              Texas\n",
      "Salary           7730337.0\n",
      "Name: Avery Bradley, dtype: object \n",
      "\n",
      "\n",
      " Team        Boston Celtics\n",
      "Number                28.0\n",
      "Position                SG\n",
      "Age                   22.0\n",
      "Height                 6-5\n",
      "Weight               185.0\n",
      "College      Georgia State\n",
      "Salary           1148640.0\n",
      "Name: R.J. Hunter, dtype: object\n"
     ]
    }
   ],
   "source": [
    "data = pd.read_csv(\"nba.csv\", index_col =\"Name\")\n",
    " \n",
    "first = data.loc[\"Avery Bradley\"]\n",
    "second = data.loc[\"R.J. Hunter\"]\n",
    " \n",
    " \n",
    "print(first, \"\\n\\n\\n\", second)"
   ]
  },
  {
   "cell_type": "code",
   "execution_count": 39,
   "id": "c55a1e94",
   "metadata": {},
   "outputs": [
    {
     "data": {
      "text/html": [
       "<div>\n",
       "<style scoped>\n",
       "    .dataframe tbody tr th:only-of-type {\n",
       "        vertical-align: middle;\n",
       "    }\n",
       "\n",
       "    .dataframe tbody tr th {\n",
       "        vertical-align: top;\n",
       "    }\n",
       "\n",
       "    .dataframe thead th {\n",
       "        text-align: right;\n",
       "    }\n",
       "</style>\n",
       "<table border=\"1\" class=\"dataframe\">\n",
       "  <thead>\n",
       "    <tr style=\"text-align: right;\">\n",
       "      <th></th>\n",
       "      <th>Name</th>\n",
       "      <th>Team</th>\n",
       "      <th>Number</th>\n",
       "      <th>Position</th>\n",
       "      <th>Age</th>\n",
       "      <th>Height</th>\n",
       "      <th>Weight</th>\n",
       "      <th>College</th>\n",
       "      <th>Salary</th>\n",
       "      <th>Address</th>\n",
       "    </tr>\n",
       "  </thead>\n",
       "  <tbody>\n",
       "    <tr>\n",
       "      <th>0</th>\n",
       "      <td>Geeks</td>\n",
       "      <td>Boston</td>\n",
       "      <td>3.0</td>\n",
       "      <td>PG</td>\n",
       "      <td>33</td>\n",
       "      <td>6-2</td>\n",
       "      <td>189.0</td>\n",
       "      <td>MIT</td>\n",
       "      <td>99999.0</td>\n",
       "      <td>NaN</td>\n",
       "    </tr>\n",
       "    <tr>\n",
       "      <th>1</th>\n",
       "      <td>Geeks</td>\n",
       "      <td>Boston</td>\n",
       "      <td>3.0</td>\n",
       "      <td>PG</td>\n",
       "      <td>33</td>\n",
       "      <td>6-2</td>\n",
       "      <td>189.0</td>\n",
       "      <td>MIT</td>\n",
       "      <td>99999.0</td>\n",
       "      <td>NaN</td>\n",
       "    </tr>\n",
       "    <tr>\n",
       "      <th>2</th>\n",
       "      <td>Geeks</td>\n",
       "      <td>Boston</td>\n",
       "      <td>3.0</td>\n",
       "      <td>PG</td>\n",
       "      <td>33</td>\n",
       "      <td>6-2</td>\n",
       "      <td>189.0</td>\n",
       "      <td>MIT</td>\n",
       "      <td>99999.0</td>\n",
       "      <td>NaN</td>\n",
       "    </tr>\n",
       "    <tr>\n",
       "      <th>3</th>\n",
       "      <td>Jai</td>\n",
       "      <td>NaN</td>\n",
       "      <td>NaN</td>\n",
       "      <td>NaN</td>\n",
       "      <td>27</td>\n",
       "      <td>NaN</td>\n",
       "      <td>NaN</td>\n",
       "      <td>NaN</td>\n",
       "      <td>NaN</td>\n",
       "      <td>Delhi</td>\n",
       "    </tr>\n",
       "    <tr>\n",
       "      <th>4</th>\n",
       "      <td>Princi</td>\n",
       "      <td>NaN</td>\n",
       "      <td>NaN</td>\n",
       "      <td>NaN</td>\n",
       "      <td>24</td>\n",
       "      <td>NaN</td>\n",
       "      <td>NaN</td>\n",
       "      <td>NaN</td>\n",
       "      <td>NaN</td>\n",
       "      <td>Bangalore</td>\n",
       "    </tr>\n",
       "  </tbody>\n",
       "</table>\n",
       "</div>"
      ],
      "text/plain": [
       "     Name    Team  Number Position  Age Height  Weight College   Salary  \\\n",
       "0   Geeks  Boston     3.0       PG   33    6-2   189.0     MIT  99999.0   \n",
       "1   Geeks  Boston     3.0       PG   33    6-2   189.0     MIT  99999.0   \n",
       "2   Geeks  Boston     3.0       PG   33    6-2   189.0     MIT  99999.0   \n",
       "3     Jai     NaN     NaN      NaN   27    NaN     NaN     NaN      NaN   \n",
       "4  Princi     NaN     NaN      NaN   24    NaN     NaN     NaN      NaN   \n",
       "\n",
       "     Address  \n",
       "0        NaN  \n",
       "1        NaN  \n",
       "2        NaN  \n",
       "3      Delhi  \n",
       "4  Bangalore  "
      ]
     },
     "execution_count": 39,
     "metadata": {},
     "output_type": "execute_result"
    }
   ],
   "source": [
    "data = pd.read_csv(\"nba.csv\", index_col =\"Name\")\n",
    "\n",
    "df.head(10)\n",
    "\n",
    "new_row = pd.DataFrame({'Name':'Geeks', 'Team':'Boston', 'Number':3,\n",
    "                        'Position':'PG', 'Age':33, 'Height':'6-2',\n",
    "                        'Weight':189, 'College':'MIT', 'Salary':99999}, index =[0])\n",
    "                                     \n",
    "df = pd.concat([new_row, df]).reset_index(drop = True)\n",
    "df.head(5)"
   ]
  },
  {
   "cell_type": "code",
   "execution_count": 40,
   "id": "6a461c91",
   "metadata": {},
   "outputs": [],
   "source": [
    "data.drop([\"Avery Bradley\", \"John Holland\", \"R.J. Hunter\",\n",
    "                            \"R.J. Hunter\"], inplace = True)"
   ]
  },
  {
   "cell_type": "code",
   "execution_count": 43,
   "id": "57972bd6",
   "metadata": {},
   "outputs": [
    {
     "name": "stdout",
     "output_type": "stream",
     "text": [
      "                         Team  Number Position   Age Height  Weight  \\\n",
      "Name                                                                  \n",
      "Jae Crowder    Boston Celtics    99.0       SF  25.0    6-6   235.0   \n",
      "Jonas Jerebko  Boston Celtics     8.0       PF  29.0   6-10   231.0   \n",
      "Amir Johnson   Boston Celtics    90.0       PF  29.0    6-9   240.0   \n",
      "Jordan Mickey  Boston Celtics    55.0       PF  21.0    6-8   235.0   \n",
      "Kelly Olynyk   Boston Celtics    41.0        C  25.0    7-0   238.0   \n",
      "\n",
      "                 College      Salary  \n",
      "Name                                  \n",
      "Jae Crowder    Marquette   6796117.0  \n",
      "Jonas Jerebko        NaN   5000000.0  \n",
      "Amir Johnson         NaN  12000000.0  \n",
      "Jordan Mickey        LSU   1170960.0  \n",
      "Kelly Olynyk     Gonzaga   2165160.0  \n"
     ]
    }
   ],
   "source": [
    "print(data.head())"
   ]
  },
  {
   "cell_type": "code",
   "execution_count": 47,
   "id": "4df458ea",
   "metadata": {},
   "outputs": [
    {
     "name": "stdout",
     "output_type": "stream",
     "text": [
      "                           Name  Number Position   Age Height  Weight  \\\n",
      "Team                                                                    \n",
      "Boston Celtics    Avery Bradley     0.0       PG  25.0    6-2   180.0   \n",
      "Boston Celtics      Jae Crowder    99.0       SF  25.0    6-6   235.0   \n",
      "Boston Celtics     John Holland    30.0       SG  27.0    6-5   205.0   \n",
      "Boston Celtics      R.J. Hunter    28.0       SG  22.0    6-5   185.0   \n",
      "Boston Celtics    Jonas Jerebko     8.0       PF  29.0   6-10   231.0   \n",
      "Boston Celtics     Amir Johnson    90.0       PF  29.0    6-9   240.0   \n",
      "Boston Celtics    Jordan Mickey    55.0       PF  21.0    6-8   235.0   \n",
      "Boston Celtics     Kelly Olynyk    41.0        C  25.0    7-0   238.0   \n",
      "Boston Celtics     Terry Rozier    12.0       PG  22.0    6-2   190.0   \n",
      "Boston Celtics     Marcus Smart    36.0       PG  22.0    6-4   220.0   \n",
      "Boston Celtics  Jared Sullinger     7.0        C  24.0    6-9   260.0   \n",
      "Boston Celtics    Isaiah Thomas     4.0       PG  27.0    5-9   185.0   \n",
      "Boston Celtics      Evan Turner    11.0       SG  27.0    6-7   220.0   \n",
      "Boston Celtics      James Young    13.0       SG  20.0    6-6   215.0   \n",
      "Boston Celtics     Tyler Zeller    44.0        C  26.0    7-0   253.0   \n",
      "\n",
      "                          College      Salary  \n",
      "Team                                           \n",
      "Boston Celtics              Texas   7730337.0  \n",
      "Boston Celtics          Marquette   6796117.0  \n",
      "Boston Celtics  Boston University         NaN  \n",
      "Boston Celtics      Georgia State   1148640.0  \n",
      "Boston Celtics                NaN   5000000.0  \n",
      "Boston Celtics                NaN  12000000.0  \n",
      "Boston Celtics                LSU   1170960.0  \n",
      "Boston Celtics            Gonzaga   2165160.0  \n",
      "Boston Celtics         Louisville   1824360.0  \n",
      "Boston Celtics     Oklahoma State   3431040.0  \n",
      "Boston Celtics         Ohio State   2569260.0  \n",
      "Boston Celtics         Washington   6912869.0  \n",
      "Boston Celtics         Ohio State   3425510.0  \n",
      "Boston Celtics           Kentucky   1749840.0  \n",
      "Boston Celtics     North Carolina   2616975.0  \n"
     ]
    }
   ],
   "source": [
    "data = pd.read_csv(\"nba.csv\", index_col =\"Team\")\n",
    "\n",
    "print(data.loc[\"Boston Celtics\"])"
   ]
  },
  {
   "cell_type": "code",
   "execution_count": 67,
   "id": "2a2ad06a",
   "metadata": {
    "scrolled": false
   },
   "outputs": [
    {
     "name": "stdout",
     "output_type": "stream",
     "text": [
      "                           Team  Number Position   Age Height  Weight  \\\n",
      "Name                                                                    \n",
      "Avery Bradley    Boston Celtics     0.0       PG  25.0    6-2   180.0   \n",
      "Jae Crowder      Boston Celtics    99.0       SF  25.0    6-6   235.0   \n",
      "John Holland     Boston Celtics    30.0       SG  27.0    6-5   205.0   \n",
      "R.J. Hunter      Boston Celtics    28.0       SG  22.0    6-5   185.0   \n",
      "Jonas Jerebko    Boston Celtics     8.0       PF  29.0   6-10   231.0   \n",
      "Amir Johnson     Boston Celtics    90.0       PF  29.0    6-9   240.0   \n",
      "Jordan Mickey    Boston Celtics    55.0       PF  21.0    6-8   235.0   \n",
      "Kelly Olynyk     Boston Celtics    41.0        C  25.0    7-0   238.0   \n",
      "Terry Rozier     Boston Celtics    12.0       PG  22.0    6-2   190.0   \n",
      "Marcus Smart     Boston Celtics    36.0       PG  22.0    6-4   220.0   \n",
      "Jared Sullinger  Boston Celtics     7.0        C  24.0    6-9   260.0   \n",
      "Isaiah Thomas    Boston Celtics     4.0       PG  27.0    5-9   185.0   \n",
      "\n",
      "                           College      Salary  \n",
      "Name                                            \n",
      "Avery Bradley                Texas   7730337.0  \n",
      "Jae Crowder              Marquette   6796117.0  \n",
      "John Holland     Boston University         NaN  \n",
      "R.J. Hunter          Georgia State   1148640.0  \n",
      "Jonas Jerebko                  NaN   5000000.0  \n",
      "Amir Johnson                   NaN  12000000.0  \n",
      "Jordan Mickey                  LSU   1170960.0  \n",
      "Kelly Olynyk               Gonzaga   2165160.0  \n",
      "Terry Rozier            Louisville   1824360.0  \n",
      "Marcus Smart        Oklahoma State   3431040.0  \n",
      "Jared Sullinger         Ohio State   2569260.0  \n",
      "Isaiah Thomas           Washington   6912869.0  \n"
     ]
    }
   ],
   "source": [
    "data = pd.read_csv(\"nba.csv\", index_col =[\"Name\"])\n",
    "print(data.loc[\"Avery Bradley\":\"Isaiah Thomas\"])"
   ]
  },
  {
   "cell_type": "code",
   "execution_count": null,
   "id": "8284ce0c",
   "metadata": {},
   "outputs": [],
   "source": []
  }
 ],
 "metadata": {
  "kernelspec": {
   "display_name": "Python 3 (ipykernel)",
   "language": "python",
   "name": "python3"
  },
  "language_info": {
   "codemirror_mode": {
    "name": "ipython",
    "version": 3
   },
   "file_extension": ".py",
   "mimetype": "text/x-python",
   "name": "python",
   "nbconvert_exporter": "python",
   "pygments_lexer": "ipython3",
   "version": "3.11.5"
  }
 },
 "nbformat": 4,
 "nbformat_minor": 5
}
