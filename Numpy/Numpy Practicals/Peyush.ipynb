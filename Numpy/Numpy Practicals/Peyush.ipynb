{
 "cells": [
  {
   "cell_type": "code",
   "execution_count": 1,
   "id": "53ef4722",
   "metadata": {},
   "outputs": [],
   "source": [
    "import numpy as np"
   ]
  },
  {
   "cell_type": "code",
   "execution_count": 2,
   "id": "74cdab0a",
   "metadata": {},
   "outputs": [],
   "source": [
    "#Creating an array \n",
    "arr=np.array([[1,2,3],[4,2,5]])"
   ]
  },
  {
   "cell_type": "code",
   "execution_count": 4,
   "id": "ccf20d40",
   "metadata": {},
   "outputs": [
    {
     "name": "stdout",
     "output_type": "stream",
     "text": [
      "Array is of type:  <class 'numpy.ndarray'>\n",
      "No. of dimensions:  2\n",
      "Shape of array:  (2, 3)\n",
      "Size of array:  6\n",
      "Array stores elements of type:  int32\n"
     ]
    }
   ],
   "source": [
    "# Printing type of arr object \n",
    "print(\"Array is of type: \", type(arr)) \n",
    "  \n",
    "# Printing array dimensions (axes) \n",
    "print(\"No. of dimensions: \", arr.ndim) \n",
    "  \n",
    "# Printing shape of array \n",
    "print(\"Shape of array: \", arr.shape) \n",
    "  \n",
    "# Printing size (total number of elements) of array \n",
    "print(\"Size of array: \", arr.size) \n",
    "  \n",
    "# Printing type of elements in array \n",
    "print(\"Array stores elements of type: \", arr.dtype)"
   ]
  },
  {
   "cell_type": "code",
   "execution_count": 5,
   "id": "9d2a0851",
   "metadata": {},
   "outputs": [
    {
     "name": "stdout",
     "output_type": "stream",
     "text": [
      "[[1. 2. 4.]\n",
      " [5. 8. 7.]] [1 3 2]\n"
     ]
    }
   ],
   "source": [
    "# create an array from a regular Python list or tuple \n",
    "\n",
    "a=np.array([[1,2,4],[5,8,7]],dtype='float')\n",
    "b=np.array((1,3,2))\n",
    "print(a,b)"
   ]
  },
  {
   "cell_type": "code",
   "execution_count": 10,
   "id": "f6e7237a",
   "metadata": {},
   "outputs": [
    {
     "name": "stdout",
     "output_type": "stream",
     "text": [
      "[[0. 0. 0. 0.]\n",
      " [0. 0. 0. 0.]\n",
      " [0. 0. 0. 0.]]\n",
      "[[1. 1. 1.]\n",
      " [1. 1. 1.]]\n",
      "[[1.+0.j 1.+0.j 1.+0.j 1.+0.j 1.+0.j]\n",
      " [1.+0.j 1.+0.j 1.+0.j 1.+0.j 1.+0.j]\n",
      " [1.+0.j 1.+0.j 1.+0.j 1.+0.j 1.+0.j]\n",
      " [1.+0.j 1.+0.j 1.+0.j 1.+0.j 1.+0.j]\n",
      " [1.+0.j 1.+0.j 1.+0.j 1.+0.j 1.+0.j]]\n",
      "[[0.73520331 0.53931272 0.63396063]\n",
      " [0.3657986  0.96654372 0.14527276]\n",
      " [0.24637014 0.39434585 0.66585155]]\n"
     ]
    }
   ],
   "source": [
    "c=np.zeros((3,4))\n",
    "d=np.ones((2,3))\n",
    "e=np.full((5,5),1,dtype='complex')\n",
    "f=np.random.random((3,3))\n",
    "print(c)\n",
    "print(d)\n",
    "print(e)\n",
    "print(f)"
   ]
  },
  {
   "cell_type": "code",
   "execution_count": 14,
   "id": "a16f50b4",
   "metadata": {},
   "outputs": [
    {
     "name": "stdout",
     "output_type": "stream",
     "text": [
      "[ 0  3  6  9 12 15 18 21 24 27]\n",
      "[0.         0.26315789 0.52631579 0.78947368 1.05263158 1.31578947\n",
      " 1.57894737 1.84210526 2.10526316 2.36842105 2.63157895 2.89473684\n",
      " 3.15789474 3.42105263 3.68421053 3.94736842 4.21052632 4.47368421\n",
      " 4.73684211 5.        ]\n"
     ]
    }
   ],
   "source": [
    "g=np.arange(0,30,3)\n",
    "print(g)\n",
    "\n",
    "h=np.linspace(0,5,20)\n",
    "print(h)"
   ]
  },
  {
   "cell_type": "code",
   "execution_count": 17,
   "id": "55b411db",
   "metadata": {},
   "outputs": [
    {
     "name": "stdout",
     "output_type": "stream",
     "text": [
      "[[1 2 3 4]\n",
      " [5 2 4 2]\n",
      " [1 2 0 1]]\n",
      "[[[1 2 3]\n",
      "  [4 5 2]]\n",
      "\n",
      " [[4 2 1]\n",
      "  [2 0 1]]]\n",
      "[1 2 3 4 5 2 4 2 1 2 0 1]\n"
     ]
    }
   ],
   "source": [
    "i=np.array([[1, 2, 3, 4], [5, 2, 4, 2], [1, 2, 0, 1]])\n",
    "j=i.reshape(2,2,3)\n",
    "k=i.flatten()\n",
    "\n",
    "print(i)\n",
    "print(j)\n",
    "print(k)"
   ]
  },
  {
   "cell_type": "code",
   "execution_count": 26,
   "id": "2cb5cbc5",
   "metadata": {},
   "outputs": [
    {
     "name": "stdout",
     "output_type": "stream",
     "text": [
      "[[-1.  0.]\n",
      " [ 4.  6.]]\n",
      "[4. 6. 0. 3.]\n",
      "[[False  True False  True]\n",
      " [ True False  True False]\n",
      " [ True False  True  True]\n",
      " [ True False  True  True]]\n",
      "[2.  4.  4.  6.  2.6 7.  8.  3.  4.  2. ]\n",
      "[4. 6. 0. 3.]\n",
      "[[-1.   4.   2.6  3. ]\n",
      " [ 2.  -0.5  0.  -7. ]\n",
      " [ 0.   6.   7.   4. ]\n",
      " [ 4.   0.   8.   2. ]]\n"
     ]
    }
   ],
   "source": [
    "# indexing in numpy \n",
    "arr = np.array([[-1, 2, 0, 4], \n",
    "                [4, -0.5, 6, 0], \n",
    "                [2.6, 0, 7, 8], \n",
    "                [3, -7, 4, 2.0]]) \n",
    "\n",
    "# Slicing array \n",
    "temp = arr[:2, ::2] \n",
    "\n",
    "print(temp)\n",
    "\n",
    "#Integer Array Indexing\n",
    "temp=arr[[0, 1, 2, 3], [3, 2, 1, 0]] \n",
    "print(temp)\n",
    "\n",
    "# boolean array indexing\n",
    "cond = arr > 0 # cond is a boolean array \n",
    "temp = arr[cond]\n",
    "print(cond)\n",
    "print(temp)\n",
    "\n",
    "temp=arr[(0, 1, 2, 3), (3, 2, 1, 0)]\n",
    "print(temp)\n",
    "\n",
    "\n",
    "temp=arr.T\n",
    "print(temp)"
   ]
  },
  {
   "cell_type": "code",
   "execution_count": 28,
   "id": "7b8e9073",
   "metadata": {},
   "outputs": [
    {
     "name": "stdout",
     "output_type": "stream",
     "text": [
      "[[ 1.   4.   2.   6. ]\n",
      " [ 6.   1.5  8.   2. ]\n",
      " [ 4.6  2.   9.  10. ]\n",
      " [ 5.  -5.   6.   4. ]]\n",
      "[[ -2.    4.    0.    8. ]\n",
      " [  8.   -1.   12.    0. ]\n",
      " [  5.2   0.   14.   16. ]\n",
      " [  6.  -14.    8.    4. ]]\n",
      "[[ 1.    4.    0.   16.  ]\n",
      " [16.    0.25 36.    0.  ]\n",
      " [ 6.76  0.   49.   64.  ]\n",
      " [ 9.   49.   16.    4.  ]]\n"
     ]
    }
   ],
   "source": [
    "#Operations on arr \n",
    "print(arr+2)\n",
    "print(arr*2)\n",
    "print(arr**2)"
   ]
  },
  {
   "cell_type": "code",
   "execution_count": 29,
   "id": "244ef136",
   "metadata": {},
   "outputs": [
    {
     "name": "stdout",
     "output_type": "stream",
     "text": [
      "8.0 [4. 6. 8. 4.] [4. 2. 7. 8.] 34.1 [[-1.   1.   1.   5. ]\n",
      " [ 4.   3.5  9.5  9.5]\n",
      " [ 2.6  2.6  9.6 17.6]\n",
      " [ 3.  -4.   0.   2. ]]\n"
     ]
    }
   ],
   "source": [
    "print(arr.max(),arr.max(axis=1),arr.max(axis=0),arr.sum(),arr.cumsum(axis=1))\n",
    "#axis =1 represent row wise \n",
    "#axis =0 represent column wise\n",
    "#cumsum means cumulative sum\n",
    "\n",
    "#Unary Operators"
   ]
  },
  {
   "cell_type": "code",
   "execution_count": 31,
   "id": "3d41c9b4",
   "metadata": {},
   "outputs": [
    {
     "name": "stdout",
     "output_type": "stream",
     "text": [
      "[[5 5]\n",
      " [5 5]]\n",
      "[[4 6]\n",
      " [6 4]]\n",
      "[[ 8  5]\n",
      " [20 13]]\n"
     ]
    }
   ],
   "source": [
    "#Binary Operators\n",
    "\n",
    "a = np.array([[1, 2], \n",
    "            [3, 4]]) \n",
    "b = np.array([[4, 3], \n",
    "            [2, 1]]) \n",
    "\n",
    "print(a+b)\n",
    "print(a*b) #elementwise multiplication\n",
    "print(a.dot(b)) #matrix multiplication"
   ]
  },
  {
   "cell_type": "code",
   "execution_count": 32,
   "id": "ee0b9271",
   "metadata": {},
   "outputs": [
    {
     "name": "stdout",
     "output_type": "stream",
     "text": [
      "[0.0000000e+00 1.0000000e+00 1.2246468e-16]\n",
      "[ 1.          2.71828183  7.3890561  20.08553692]\n",
      "[0.         1.         1.41421356 1.73205081]\n"
     ]
    }
   ],
   "source": [
    "#ufuncs\n",
    "\n",
    "# create an array of sine values \n",
    "a = np.array([0, np.pi/2, np.pi]) \n",
    "print (np.sin(a)) \n",
    "  \n",
    "# exponential values \n",
    "a = np.array([0, 1, 2, 3]) \n",
    "print ( np.exp(a)) \n",
    "  \n",
    "# square root of array values \n",
    "print (np.sqrt(a)) \n"
   ]
  },
  {
   "cell_type": "code",
   "execution_count": 38,
   "id": "156cf768",
   "metadata": {},
   "outputs": [
    {
     "name": "stdout",
     "output_type": "stream",
     "text": [
      "[0 1 2 3 3 4 6 7 9]\n",
      "[[1 3 4]\n",
      " [2 7 9]\n",
      " [0 3 6]]\n",
      "[[1 0 3]\n",
      " [3 2 6]\n",
      " [7 4 9]]\n",
      "[(b'Aakash', 2009, 9. ) (b'Ajay', 2008, 8.7) (b'Hrithik', 2009, 8.5)\n",
      " (b'Pankaj', 2008, 7.9)]\n",
      "[(b'Pankaj', 2008, 7.9) (b'Ajay', 2008, 8.7) (b'Hrithik', 2009, 8.5)\n",
      " (b'Aakash', 2009, 9. )]\n"
     ]
    }
   ],
   "source": [
    "#Sorting The np array\n",
    "\n",
    "a=np.array([[1,4,3],[7,2,9],[3,0,6]])\n",
    "\n",
    "print(np.sort(a,axis=None))\n",
    "print(np.sort(a,axis=1))\n",
    "print(np.sort(a,axis=0,kind='mergesort'))\n",
    "\n",
    "\n",
    "#set alias names for dtypes\n",
    "\n",
    "dtypes=[('name','S10'),('grad_year',int),('cgpa',float)]\n",
    "\n",
    "values = [('Hrithik', 2009, 8.5), ('Ajay', 2008, 8.7),  \n",
    "           ('Pankaj', 2008, 7.9), ('Aakash', 2009, 9.0)]\n",
    "\n",
    "arr = np.array(values, dtype = dtypes) \n",
    "print(np.sort(arr,order='name'))\n",
    "print(np.sort(arr,order=['grad_year','cgpa']))"
   ]
  },
  {
   "cell_type": "code",
   "execution_count": null,
   "id": "0dffafc0",
   "metadata": {},
   "outputs": [],
   "source": []
  }
 ],
 "metadata": {
  "kernelspec": {
   "display_name": "Python 3 (ipykernel)",
   "language": "python",
   "name": "python3"
  },
  "language_info": {
   "codemirror_mode": {
    "name": "ipython",
    "version": 3
   },
   "file_extension": ".py",
   "mimetype": "text/x-python",
   "name": "python",
   "nbconvert_exporter": "python",
   "pygments_lexer": "ipython3",
   "version": "3.11.5"
  }
 },
 "nbformat": 4,
 "nbformat_minor": 5
}
