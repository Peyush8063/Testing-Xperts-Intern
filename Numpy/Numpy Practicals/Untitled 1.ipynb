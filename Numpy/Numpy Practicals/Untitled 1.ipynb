{
 "cells": [
  {
   "cell_type": "code",
   "execution_count": 6,
   "id": "24de5dbc",
   "metadata": {},
   "outputs": [
    {
     "name": "stdout",
     "output_type": "stream",
     "text": [
      "[2.-4.j 3.+9.j]\n"
     ]
    }
   ],
   "source": [
    "import numpy as np\n",
    " \n",
    "in_complx1 = np.array([2+4j,3-9j],dtype='complex')\n",
    "out_complx1 = np.conj(in_complx1)\n",
    "print(out_complx1)"
   ]
  },
  {
   "cell_type": "code",
   "execution_count": 8,
   "id": "8441dba4",
   "metadata": {},
   "outputs": [
    {
     "name": "stdout",
     "output_type": "stream",
     "text": [
      "Input array :  [5, -8]\n",
      "Binary representation of 5\n",
      "Without using width parameter :  101\n",
      "Using width parameter:  00101\n",
      "\n",
      "Binary representation of -8\n",
      "Without using width parameter :  -1000\n",
      "Using width parameter :  111000\n"
     ]
    }
   ],
   "source": [
    "# Python program explaining\n",
    "# binary_repr() function\n",
    "import numpy as geek\n",
    " \n",
    "in_arr = [5, -8 ]\n",
    "  \n",
    "print (\"Input array : \", in_arr) \n",
    " \n",
    "# binary representation of first array  \n",
    "# element without using width parameter\n",
    "out_num = geek.binary_repr(in_arr[0])\n",
    "print(\"Binary representation of 5\")\n",
    "print (\"Without using width parameter : \", out_num) \n",
    " \n",
    "# binary representation of first array\n",
    "# element using width parameter\n",
    "out_num = geek.binary_repr(in_arr[0], width = 5)\n",
    "print (\"Using width parameter: \", out_num) \n",
    " \n",
    "print(\"\\nBinary representation of -8 \n",
    " \n",
    "# binary representation of 2nd array\n",
    "# element without using width parameter\n",
    "out_num = geek.binary_repr(in_arr[1])\n",
    "print (\"Without using width parameter : \", out_num) \n",
    " \n",
    "# binary representation of 2nd array\n",
    "# element  using width parameter\n",
    "out_num = geek.binary_repr(in_arr[1], width = 6)\n",
    "print (\"Using width parameter : \", out_num) "
   ]
  },
  {
   "cell_type": "code",
   "execution_count": 9,
   "id": "5ae08a16",
   "metadata": {},
   "outputs": [
    {
     "name": "stdout",
     "output_type": "stream",
     "text": [
      "g-e-e-k-s\n",
      "['g-e-e-k-s' 'f:o:r']\n"
     ]
    }
   ],
   "source": [
    "print(np.char.join('-', 'geeks'))\n",
    " \n",
    "# splitting a string\n",
    "print(np.char.join(['-', ':'], ['geeks', 'for']))"
   ]
  },
  {
   "cell_type": "code",
   "execution_count": 10,
   "id": "b37f8e15",
   "metadata": {},
   "outputs": [
    {
     "name": "stdout",
     "output_type": "stream",
     "text": [
      "True\n"
     ]
    }
   ],
   "source": [
    "print(np.char.isnumeric('12'))"
   ]
  },
  {
   "cell_type": "code",
   "execution_count": 15,
   "id": "9c713215",
   "metadata": {},
   "outputs": [
    {
     "name": "stdout",
     "output_type": "stream",
     "text": [
      "True\n"
     ]
    }
   ],
   "source": [
    "a=np.char.greater('friend','for')\n",
    "print(a)"
   ]
  },
  {
   "cell_type": "code",
   "execution_count": null,
   "id": "b1dff528",
   "metadata": {},
   "outputs": [],
   "source": []
  }
 ],
 "metadata": {
  "kernelspec": {
   "display_name": "Python 3 (ipykernel)",
   "language": "python",
   "name": "python3"
  },
  "language_info": {
   "codemirror_mode": {
    "name": "ipython",
    "version": 3
   },
   "file_extension": ".py",
   "mimetype": "text/x-python",
   "name": "python",
   "nbconvert_exporter": "python",
   "pygments_lexer": "ipython3",
   "version": "3.11.2"
  }
 },
 "nbformat": 4,
 "nbformat_minor": 5
}
