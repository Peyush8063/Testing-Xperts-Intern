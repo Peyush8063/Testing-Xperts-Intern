{
 "cells": [
  {
   "cell_type": "code",
   "execution_count": 2,
   "id": "77e89894",
   "metadata": {},
   "outputs": [],
   "source": [
    "import numpy as np"
   ]
  },
  {
   "cell_type": "code",
   "execution_count": 2,
   "id": "c82c8583",
   "metadata": {},
   "outputs": [
    {
     "name": "stdout",
     "output_type": "stream",
     "text": [
      "2298912105616 2298912105616\n"
     ]
    }
   ],
   "source": [
    "arr=np.array([1,2,3,4,5])\n",
    "temp=arr\n",
    "print(id(arr),id(temp))"
   ]
  },
  {
   "cell_type": "code",
   "execution_count": 3,
   "id": "4f30beea",
   "metadata": {},
   "outputs": [
    {
     "name": "stdout",
     "output_type": "stream",
     "text": [
      "[1000    2    3    4    5]\n"
     ]
    }
   ],
   "source": [
    "temp[0]=1000\n",
    "print(arr)"
   ]
  },
  {
   "cell_type": "code",
   "execution_count": 9,
   "id": "cf928317",
   "metadata": {},
   "outputs": [
    {
     "name": "stdout",
     "output_type": "stream",
     "text": [
      "[1000    2    3    4    5]\n",
      "2298912105616 2299153650896\n"
     ]
    }
   ],
   "source": [
    "v=arr.view()\n",
    "print(v)\n",
    "print(id(arr),id(v))"
   ]
  },
  {
   "cell_type": "code",
   "execution_count": 10,
   "id": "d7ead01d",
   "metadata": {},
   "outputs": [
    {
     "name": "stdout",
     "output_type": "stream",
     "text": [
      "[1 2 3 4 5]\n"
     ]
    }
   ],
   "source": [
    "arr[0]=1\n",
    "print(v)"
   ]
  },
  {
   "cell_type": "code",
   "execution_count": 11,
   "id": "1d4b9878",
   "metadata": {},
   "outputs": [
    {
     "name": "stdout",
     "output_type": "stream",
     "text": [
      "2298912105616 2298912843184\n",
      "[1 2 3 4 5]\n"
     ]
    }
   ],
   "source": [
    "c=arr.copy()\n",
    "print(id(arr),id(c))\n",
    "arr[0]=2\n",
    "print(c)"
   ]
  },
  {
   "cell_type": "code",
   "execution_count": 20,
   "id": "6d692a19",
   "metadata": {},
   "outputs": [
    {
     "name": "stdout",
     "output_type": "stream",
     "text": [
      "[[ 1  2  3  4  5  6]\n",
      " [ 7  8  9 10 11 12]] \n",
      "\n",
      "[[ 5  6  7  8  9 10]] \n",
      "\n",
      "[[ 1  2  3  4  5  6]\n",
      " [ 7  8  9 10 11 12]\n",
      " [ 5  6  7  8  9 10]] \n",
      "\n",
      "[[1]\n",
      " [2]] \n",
      "\n",
      "[[ 1  2  3  4  5  6  1]\n",
      " [ 7  8  9 10 11 12  2]] \n",
      "\n",
      "[[ 1  2  3  4  5  6  1]\n",
      " [ 7  8  9 10 11 12  2]]\n"
     ]
    }
   ],
   "source": [
    "arr = np.arange(1, 13).reshape(2, 6)\n",
    "print(arr, '\\n')\n",
    "\n",
    "col = np.arange(5, 11).reshape(1, 6)\n",
    "print(col,'\\n')\n",
    "arr_col = np.append(arr, col, axis=0)\n",
    "print(arr_col, '\\n')\n",
    " \n",
    "row = np.array([1, 2]).reshape(2, 1)\n",
    "print(row,'\\n')\n",
    "arr_row = np.append(arr, row, axis=1)\n",
    "print(arr_row,'\\n')\n",
    "\n",
    "print(np.concatenate((arr,row),axis=1))"
   ]
  },
  {
   "cell_type": "code",
   "execution_count": 22,
   "id": "a287237f",
   "metadata": {},
   "outputs": [
    {
     "name": "stdout",
     "output_type": "stream",
     "text": [
      "[[ 6  2  3  4  5  1]\n",
      " [12  8  9 10 11  7]]\n"
     ]
    }
   ],
   "source": [
    "arr[:,[0,5]]=arr[:,[5,0]]\n",
    "print(arr)"
   ]
  },
  {
   "cell_type": "code",
   "execution_count": 36,
   "id": "cb58bb19",
   "metadata": {},
   "outputs": [
    {
     "name": "stdout",
     "output_type": "stream",
     "text": [
      "[[[[ 6]\n",
      "   [ 2]\n",
      "   [ 3]\n",
      "   [ 4]\n",
      "   [ 5]\n",
      "   [ 1]]\n",
      "\n",
      "  [[12]\n",
      "   [ 8]\n",
      "   [ 9]\n",
      "   [10]\n",
      "   [11]\n",
      "   [ 7]]]]\n",
      "(1, 2, 6, 1)\n",
      "(2, 1, 6) [[[ 6  2  3  4  5  1]]\n",
      "\n",
      " [[12  8  9 10 11  7]]]\n",
      "(2, 3, 2)\n",
      "(1, 2, 1, 1, 6)\n"
     ]
    }
   ],
   "source": [
    "new_arr=arr[np.newaxis,...,np.newaxis]\n",
    "print(new_arr,new_arr.shape,sep='\\n')\n",
    "expand=np.expand_dims(arr,axis=1)\n",
    "print(expand.shape,expand)\n",
    "re=arr.reshape((2,3,2))\n",
    "print(re.shape)\n",
    "\n",
    "temp2=np.expand_dims(arr,axis=(0,3,2))\n",
    "print(temp2.shape)"
   ]
  },
  {
   "cell_type": "code",
   "execution_count": 39,
   "id": "47d24857",
   "metadata": {},
   "outputs": [
    {
     "name": "stdout",
     "output_type": "stream",
     "text": [
      "[[1 5]\n",
      " [2 6]\n",
      " [3 7]]\n"
     ]
    }
   ],
   "source": [
    "array_1 = np.array([1, 2,3]) \n",
    "array_2 = np.array([5, 6,7]) \n",
    "\n",
    "print(np.stack((array_1,array_2),axis=1))"
   ]
  },
  {
   "cell_type": "code",
   "execution_count": 40,
   "id": "358789b4",
   "metadata": {},
   "outputs": [
    {
     "name": "stdout",
     "output_type": "stream",
     "text": [
      "[array([1, 2]), array([3, 4]), array([5]), array([6])]\n"
     ]
    }
   ],
   "source": [
    "arr=np.array([1,2,3,4,5,6])\n",
    "print(np.array_split(arr,4))"
   ]
  },
  {
   "cell_type": "code",
   "execution_count": 42,
   "id": "4c438ef3",
   "metadata": {},
   "outputs": [
    {
     "name": "stdout",
     "output_type": "stream",
     "text": [
      "[array([[1, 2, 3],\n",
      "       [4, 5, 6]]), array([[ 7,  8,  9],\n",
      "       [10, 11, 12]])]\n"
     ]
    }
   ],
   "source": [
    "matrix = np.array([[1, 2, 3],\n",
    "                            [4, 5, 6],\n",
    "                            [7, 8, 9],\n",
    "                            [10, 11, 12]])\n",
    "\n",
    "print(np.vsplit(matrix, 2))\n"
   ]
  },
  {
   "cell_type": "code",
   "execution_count": 11,
   "id": "4278678c",
   "metadata": {},
   "outputs": [
    {
     "name": "stdout",
     "output_type": "stream",
     "text": [
      "Original Array :\n",
      "[[11 11 12 11]\n",
      " [13 11 12 11]\n",
      " [16 11 12 11]\n",
      " [11 11 12 11]]\n",
      "Unique Rows:\n",
      "[11 12 13 16]\n"
     ]
    }
   ],
   "source": [
    "arr2D = np.array([[11, 11, 12, 11],\n",
    "                     [13, 11, 12, 11],\n",
    "                     [16, 11, 12, 11],\n",
    "                     [11, 11, 12, 11]])\n",
    " \n",
    "print('Original Array :' ,\n",
    "      arr2D, sep = '\\n')\n",
    " \n",
    "uniqueRows = np.unique(arr2D)\n",
    "     \n",
    "print('Unique Rows:',\n",
    "      uniqueRows, sep = '\\n')"
   ]
  },
  {
   "cell_type": "code",
   "execution_count": null,
   "id": "82421805",
   "metadata": {},
   "outputs": [],
   "source": []
  }
 ],
 "metadata": {
  "kernelspec": {
   "display_name": "Python 3 (ipykernel)",
   "language": "python",
   "name": "python3"
  },
  "language_info": {
   "codemirror_mode": {
    "name": "ipython",
    "version": 3
   },
   "file_extension": ".py",
   "mimetype": "text/x-python",
   "name": "python",
   "nbconvert_exporter": "python",
   "pygments_lexer": "ipython3",
   "version": "3.11.2"
  }
 },
 "nbformat": 4,
 "nbformat_minor": 5
}
